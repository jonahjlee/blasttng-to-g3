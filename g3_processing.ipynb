{
 "cells": [
  {
   "metadata": {},
   "cell_type": "markdown",
   "source": [
    "# G3 Processing\n",
    "\n",
    "This file contains code to view and load G3 files produced by ``g3_packager``.\n",
    "\n",
    "Since G3 files will mostly be stored on the CCAT Control Computer (in ``/media/player1/blast2020fc1/blasttng_g3``),\n",
    "it is useful to run this notebook in a Jupyter server on the control computer, then to use SSH tunneling to interact with\n",
    "the Jupyter notebook through the client's browser. This minimizes the tedious process of saving and transferring data that is needed\n",
    "for anything other than text output (e.g. Matplotlib plots).\n",
    "\n",
    "\n",
    "## How to Set Up\n",
    "\n",
    "Run these commands on the desired client machine.\n",
    "For this walkthrough, it assumed that the client is already on the CCAT [tailnet](https://tailscale.com/).\n",
    "\n",
    "1. SSH into the control computer. Follow instructions to authenticate if needed.\n",
    "    ```\n",
    "    ssh player1@cube\n",
    "    ```\n",
    "2. Enter the project repository on the remote machine\n",
    "    ```\n",
    "    cd ~/map_making_jonah/blasttng-to-g3\n",
    "    ```\n",
    "3. Set up ``PYTHONPATH`` to fix possible import issues (optional)\n",
    "    ```\n",
    "    export PYTHONPATH=$PYTHONPATH:$PWD\n",
    "    ```\n",
    "4. Activate the virtual environment\n",
    "    ```\n",
    "    source .venv/bin/activate\n",
    "    ```\n",
    "5. Start the Jupyter server as a module. Running it this way will ensure the virtual environment is used rather than the global python installation.\n",
    "    ```\n",
    "    python3 -m jupyter notebook --no-browser --port 8888\n",
    "    ```\n",
    "6. Next, copy the URL that appears in the output (e.g. http://localhost:8888/tree?token=placeholder123456). Return to the terminal on your client machine for the following commands. It may be useful to do this in a new terminal. This will forward the port 8888 on the client to the localhost of the __remote__ control computer at port 8888.\n",
    "    ```\n",
    "    # on local machine (not control computer)\n",
    "    ssh player1@cube -NL 8888:localhost:8888\n",
    "    ```\n",
    "7. Finally paste the link copied earier into your browser and you should be good to go!"
   ],
   "id": "6de4b7d1a4b59ba0"
  },
  {
   "metadata": {
    "ExecuteTime": {
     "end_time": "2025-04-03T21:07:01.521869Z",
     "start_time": "2025-04-03T21:07:01.514427Z"
    }
   },
   "cell_type": "code",
   "source": "control_computer_g3_dir = \"/media/player1/blast2020fc1/blasttng_g3\"",
   "id": "a1c88bdcd778d1ca",
   "outputs": [],
   "execution_count": 1
  }
 ],
 "metadata": {
  "kernelspec": {
   "display_name": "Python 3",
   "language": "python",
   "name": "python3"
  },
  "language_info": {
   "codemirror_mode": {
    "name": "ipython",
    "version": 2
   },
   "file_extension": ".py",
   "mimetype": "text/x-python",
   "name": "python",
   "nbconvert_exporter": "python",
   "pygments_lexer": "ipython2",
   "version": "2.7.6"
  }
 },
 "nbformat": 4,
 "nbformat_minor": 5
}

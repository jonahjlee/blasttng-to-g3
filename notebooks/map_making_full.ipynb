{
 "cells": [
  {
   "cell_type": "code",
   "execution_count": 1,
   "id": "8773083c-4076-4429-819e-307dd17c69ac",
   "metadata": {},
   "outputs": [],
   "source": [
    "import so3g\n",
    "import numpy as np\n",
    "import g3_utils as ut\n",
    "import matplotlib.pyplot as plt\n",
    "from spt3g import core\n",
    "from spt3g.core import G3Units as gu\n",
    "import pathlib\n",
    "from astropy.coordinates import SkyCoord"
   ]
  },
  {
   "cell_type": "code",
   "execution_count": 9,
   "id": "81ae743a-fcea-4874-95fa-46436271d937",
   "metadata": {},
   "outputs": [],
   "source": [
    "control_computer_g3_dir = pathlib.Path(\"/media/player1/blast2020fc1/blasttng_g3\")\n",
    "roach1_pass3_file = control_computer_g3_dir / \"testing/roach1_pass3.g3\"\n",
    "\n",
    "stage_file = lambda i: str(control_computer_g3_dir / f\"mapmaking/pipeline/stage{i}.g3\")"
   ]
  },
  {
   "cell_type": "code",
   "execution_count": 7,
   "id": "18946505-cc06-4405-8523-4882bf0b4d02",
   "metadata": {},
   "outputs": [],
   "source": [
    "kid_rejects = [11, 21, 57, 81, 111, 127, 147, 148, 149, 150, 151, 152, 154, 158, 170, 181, 182, 192, 195,\n",
    "              211, 223, 225, 245, 263, 282, 286, 293, 297, 319, 327, 331, 333, 334, 336, 337, 340, 341, 349, 352]\n",
    "exclude_kids = [ut.kid_string(reject_id, roach_id=1) for reject_id in kid_rejects]"
   ]
  },
  {
   "cell_type": "code",
   "execution_count": 10,
   "id": "f6f59b20-bbdd-4e95-8454-fe71311582e4",
   "metadata": {},
   "outputs": [],
   "source": [
    "stats = ut.DetectorStats(data_key=\"df\")\n",
    "\n",
    "pipe = core.G3Pipeline()\n",
    "pipe.Add(core.G3Reader, filename=str(roach1_pass3_file))\n",
    "# create non-normalized df & save\n",
    "pipe.Add(ut.add_cal_lamp_df, iq_key=\"cal_lamp_data\", exclude_kids=exclude_kids)\n",
    "pipe.Add(ut.AddScanDF, exclude_kids=exclude_kids)\n",
    "pipe.Add(core.G3Writer, filename=stage_file(1))\n",
    "# compute medians & standard deviation for each detector scan\n",
    "pipe.Add(stats)\n",
    "pipe.Run()\n",
    "\n",
    "detector_medians = np.median(np.array(stats.medians), axis=0)\n",
    "detector_stds = np.median(np.array(stats.stds), axis=0)"
   ]
  },
  {
   "cell_type": "code",
   "execution_count": 13,
   "id": "7120d0e0-cd37-4829-8528-dfd69a0266c8",
   "metadata": {},
   "outputs": [
    {
     "ename": "AssertionError",
     "evalue": "must set source_coords!",
     "output_type": "error",
     "traceback": [
      "\u001b[0;31m---------------------------------------------------------------------------\u001b[0m",
      "\u001b[0;31mAssertionError\u001b[0m                            Traceback (most recent call last)",
      "Cell \u001b[0;32mIn[13], line 9\u001b[0m\n\u001b[1;32m      1\u001b[0m \u001b[38;5;66;03m# TODO: move towards object-oriented approach, maybe using spt3g.maps FlatSkyMap?\u001b[39;00m\n\u001b[1;32m      2\u001b[0m map_args \u001b[38;5;241m=\u001b[39m {\n\u001b[1;32m      3\u001b[0m     \u001b[38;5;124m'\u001b[39m\u001b[38;5;124mra0\u001b[39m\u001b[38;5;124m'\u001b[39m: \u001b[38;5;241m231.15\u001b[39m \u001b[38;5;241m*\u001b[39m core\u001b[38;5;241m.\u001b[39mG3Units\u001b[38;5;241m.\u001b[39mdeg,\n\u001b[1;32m      4\u001b[0m     \u001b[38;5;124m'\u001b[39m\u001b[38;5;124mdec0\u001b[39m\u001b[38;5;124m'\u001b[39m: \u001b[38;5;241m-\u001b[39m\u001b[38;5;241m56.2\u001b[39m \u001b[38;5;241m*\u001b[39m core\u001b[38;5;241m.\u001b[39mG3Units\u001b[38;5;241m.\u001b[39mdeg,\n\u001b[0;32m   (...)\u001b[0m\n\u001b[1;32m      7\u001b[0m     \u001b[38;5;124m'\u001b[39m\u001b[38;5;124mres\u001b[39m\u001b[38;5;124m'\u001b[39m: \u001b[38;5;241m1\u001b[39m \u001b[38;5;241m*\u001b[39m core\u001b[38;5;241m.\u001b[39mG3Units\u001b[38;5;241m.\u001b[39marcmin,\n\u001b[1;32m      8\u001b[0m }\n\u001b[0;32m----> 9\u001b[0m binner0 \u001b[38;5;241m=\u001b[39m \u001b[43mut\u001b[49m\u001b[38;5;241;43m.\u001b[39;49m\u001b[43mMapBinner\u001b[49m\u001b[43m(\u001b[49m\u001b[43mtimestreams\u001b[49m\u001b[38;5;241;43m=\u001b[39;49m\u001b[38;5;124;43m\"\u001b[39;49m\u001b[38;5;124;43mnorm_df\u001b[39;49m\u001b[38;5;124;43m\"\u001b[39;49m\u001b[43m,\u001b[49m\u001b[43m \u001b[49m\u001b[43mstds\u001b[49m\u001b[38;5;241;43m=\u001b[39;49m\u001b[43mdetector_stds\u001b[49m\u001b[43m,\u001b[49m\u001b[43m \u001b[49m\u001b[38;5;241;43m*\u001b[39;49m\u001b[38;5;241;43m*\u001b[39;49m\u001b[43mmap_args\u001b[49m\u001b[43m)\u001b[49m\n\u001b[1;32m     11\u001b[0m pipe \u001b[38;5;241m=\u001b[39m core\u001b[38;5;241m.\u001b[39mG3Pipeline()\n\u001b[1;32m     12\u001b[0m pipe\u001b[38;5;241m.\u001b[39mAdd(core\u001b[38;5;241m.\u001b[39mG3Reader, filename\u001b[38;5;241m=\u001b[39mstage_file(\u001b[38;5;241m1\u001b[39m))\n",
      "File \u001b[0;32m~/map_making_jonah/blasttng-to-g3/g3_utils/maps.py:43\u001b[0m, in \u001b[0;36mMapBinner.__init__\u001b[0;34m(self, timestreams, source_coords, ra0, dec0, xlen, ylen, res, stds, select_kids)\u001b[0m\n\u001b[1;32m     41\u001b[0m \u001b[38;5;28mself\u001b[39m\u001b[38;5;241m.\u001b[39m_source_coords \u001b[38;5;241m=\u001b[39m source_coords\n\u001b[1;32m     42\u001b[0m \u001b[38;5;28mself\u001b[39m\u001b[38;5;241m.\u001b[39mstds \u001b[38;5;241m=\u001b[39m stds\n\u001b[0;32m---> 43\u001b[0m \u001b[38;5;28;01massert\u001b[39;00m source_coords \u001b[38;5;129;01mis\u001b[39;00m \u001b[38;5;129;01mnot\u001b[39;00m \u001b[38;5;28;01mNone\u001b[39;00m, \u001b[38;5;124m\"\u001b[39m\u001b[38;5;124mmust set source_coords!\u001b[39m\u001b[38;5;124m\"\u001b[39m\n\u001b[1;32m     44\u001b[0m \u001b[38;5;28;01massert\u001b[39;00m ra0 \u001b[38;5;129;01mis\u001b[39;00m \u001b[38;5;129;01mnot\u001b[39;00m \u001b[38;5;28;01mNone\u001b[39;00m, \u001b[38;5;124m\"\u001b[39m\u001b[38;5;124mmust set ra0!\u001b[39m\u001b[38;5;124m\"\u001b[39m\n\u001b[1;32m     45\u001b[0m \u001b[38;5;28;01massert\u001b[39;00m dec0 \u001b[38;5;129;01mis\u001b[39;00m \u001b[38;5;129;01mnot\u001b[39;00m \u001b[38;5;28;01mNone\u001b[39;00m, \u001b[38;5;124m\"\u001b[39m\u001b[38;5;124mmust set dec0!\u001b[39m\u001b[38;5;124m\"\u001b[39m\n",
      "\u001b[0;31mAssertionError\u001b[0m: must set source_coords!"
     ]
    }
   ],
   "source": [
    "# TODO: move towards object-oriented approach, maybe using spt3g.maps FlatSkyMap?\n",
    "map_args = {\n",
    "    'ra0': 231.15 * core.G3Units.deg,\n",
    "    'dec0': -56.2 * core.G3Units.deg,\n",
    "    'xlen': 1.4 * core.G3Units.deg,\n",
    "    'ylen': 0.9 * core.G3Units.deg,\n",
    "    'res': 1 * core.G3Units.arcmin,\n",
    "}\n",
    "binner0 = ut.MapBinner(timestreams=\"norm_df\", stds=detector_stds, **map_args)\n",
    "\n",
    "pipe = core.G3Pipeline()\n",
    "pipe.Add(core.G3Reader, filename=stage_file(1))\n",
    "pipe.Add(ut.add_radec_so3g)\n",
    "pipe.Add(ut.NormalizeDF, detector_medians=detector_medians)\n",
    "pipe.Add(binner0)\n",
    "pipe.Run()"
   ]
  },
  {
   "cell_type": "code",
   "execution_count": null,
   "id": "ded71c41-747d-49c3-8d71-a5c15b9d2aa4",
   "metadata": {},
   "outputs": [],
   "source": []
  }
 ],
 "metadata": {
  "kernelspec": {
   "display_name": "Python 3 (ipykernel)",
   "language": "python",
   "name": "python3"
  },
  "language_info": {
   "codemirror_mode": {
    "name": "ipython",
    "version": 3
   },
   "file_extension": ".py",
   "mimetype": "text/x-python",
   "name": "python",
   "nbconvert_exporter": "python",
   "pygments_lexer": "ipython3",
   "version": "3.10.12"
  }
 },
 "nbformat": 4,
 "nbformat_minor": 5
}

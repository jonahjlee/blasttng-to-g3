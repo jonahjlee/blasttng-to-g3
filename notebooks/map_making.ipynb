{
 "cells": [
  {
   "cell_type": "code",
   "execution_count": 1,
   "id": "a17551744fd65b3c",
   "metadata": {},
   "outputs": [],
   "source": [
    "import numpy as np\n",
    "import g3_utils as ut\n",
    "import matplotlib.pyplot as plt\n",
    "from spt3g import core\n",
    "import pathlib"
   ]
  },
  {
   "cell_type": "code",
   "execution_count": 2,
   "id": "3018843f4e1f625e",
   "metadata": {},
   "outputs": [],
   "source": [
    "control_computer_g3_dir = pathlib.Path(\"/media/player1/blast2020fc1/blasttng_g3\")\n",
    "roach1_pass3_file = control_computer_g3_dir / \"testing/roach1_pass3.g3\"\n",
    "\n",
    "ra_df_added = control_computer_g3_dir / \"mapmaking/ra_df_added.g3\"\n",
    "norm_df_added = control_computer_g3_dir / \"mapmaking/norm_df_added.g3\""
   ]
  },
  {
   "cell_type": "code",
   "execution_count": 3,
   "id": "728c0722-915e-4bb6-b17a-e5c2698d08b9",
   "metadata": {},
   "outputs": [],
   "source": [
    "kid_rejects = [11, 21, 57, 81, 111, 127, 147, 148, 149, 150, 151, 152, 154, 158, 170, 181, 182, 192, 195,\n",
    "              211, 223, 225, 245, 263, 282, 286, 293, 297, 319, 327, 331, 333, 334, 336, 337, 340, 341, 349, 352]\n",
    "exclude_kids = [ut.kid_string(reject_id, roach_id=1) for reject_id in kid_rejects]"
   ]
  },
  {
   "cell_type": "code",
   "execution_count": 4,
   "id": "d7d6c9c0b245d88",
   "metadata": {},
   "outputs": [
    {
     "name": "stdout",
     "output_type": "stream",
     "text": [
      "\n",
      "Calibration\n",
      "PipelineInfo\n",
      "Scan (x117)\n",
      "EndProcessing\n"
     ]
    }
   ],
   "source": [
    "# create non-normalized df and compute stats\n",
    "stats = ut.DetectorStats(data_key=\"df\")\n",
    "pipe = core.G3Pipeline()\n",
    "pipe.Add(core.G3Reader, filename=str(roach1_pass3_file))\n",
    "pipe.Add(ut.AddScanDF, exclude_kids=exclude_kids)\n",
    "pipe.Add(stats)\n",
    "pipe.Add(ut.FrameCounter)\n",
    "pipe.Run()\n",
    "# see signal_analysis.ipynb for plots of this data\n",
    "detector_medians = np.median(np.array(stats.medians), axis=0)\n",
    "detector_stds = np.median(np.array(stats.stds), axis=0)"
   ]
  },
  {
   "cell_type": "code",
   "execution_count": 5,
   "id": "84d62186bfcfbc37",
   "metadata": {},
   "outputs": [
    {
     "name": "stdout",
     "output_type": "stream",
     "text": [
      "\n",
      "Calibration\n",
      "PipelineInfo"
     ]
    },
    {
     "name": "stderr",
     "output_type": "stream",
     "text": [
      "WARN (Unknown) 16-Apr-2025:15:18:46 PDT: Exception in module \"g3_utils.coords.add_radec_so3g\" (G3Pipeline.cxx:124 in size_t {anonymous}::PushFrameThroughQueue(G3FramePtr, bool, bool, rusage&, std::vector<{anonymous}::G3Pipeline_mod_data>&, std::vector<{anonymous}::G3Pipeline_mod_data>::iterator, int&, std::deque<{anonymous}::G3Pipeline_proc_data>&, G3FramePtr&))\n"
     ]
    },
    {
     "ename": "ArgumentError",
     "evalue": "Python argument types in\n    None.None(G3Timestream, numpy.float64)\ndid not match C++ signature:\n    None(G3Timestream {lvalue}, G3Time)",
     "output_type": "error",
     "traceback": [
      "\u001B[0;31m---------------------------------------------------------------------------\u001B[0m",
      "\u001B[0;31mArgumentError\u001B[0m                             Traceback (most recent call last)",
      "Cell \u001B[0;32mIn[5], line 12\u001B[0m\n\u001B[1;32m     10\u001B[0m pipe\u001B[38;5;241m.\u001B[39mAdd(core\u001B[38;5;241m.\u001B[39mG3Writer, filename\u001B[38;5;241m=\u001B[39m\u001B[38;5;28mstr\u001B[39m(norm_df_added))\n\u001B[1;32m     11\u001B[0m pipe\u001B[38;5;241m.\u001B[39mAdd(ut\u001B[38;5;241m.\u001B[39mFrameCounter)\n\u001B[0;32m---> 12\u001B[0m \u001B[43mpipe\u001B[49m\u001B[38;5;241;43m.\u001B[39;49m\u001B[43mRun\u001B[49m\u001B[43m(\u001B[49m\u001B[43m)\u001B[49m\n\u001B[1;32m     14\u001B[0m \u001B[38;5;124;03m\"\"\"\u001B[39;00m\n\u001B[1;32m     15\u001B[0m \u001B[38;5;124;03mPipeline profiling results:\u001B[39;00m\n\u001B[1;32m     16\u001B[0m \u001B[38;5;124;03mspt3g.core.G3Reader: 0.071389 user, 0.037763 system, 120 frames (0.000910 s per input frame)\u001B[39;00m\n\u001B[0;32m   (...)\u001B[0m\n\u001B[1;32m     25\u001B[0m \u001B[38;5;124;03mPeak memory consumption (369.4 MB) in module g3utils.add_cal_lamp_df\u001B[39;00m\n\u001B[1;32m     26\u001B[0m \u001B[38;5;124;03m\"\"\"\u001B[39;00m;\n",
      "File \u001B[0;32m~/map_making_jonah/blasttng-to-g3/.venv/lib/python3.10/site-packages/so3g/spt3g_internal/core/modconstruct.py:100\u001B[0m, in \u001B[0;36mbuild_pymodule.<locals>.PyFuncModule.Process\u001B[0;34m(self, fr)\u001B[0m\n\u001B[1;32m     99\u001B[0m \u001B[38;5;28;01mdef\u001B[39;00m\u001B[38;5;250m \u001B[39m\u001B[38;5;21mProcess\u001B[39m(\u001B[38;5;28mself\u001B[39m, fr):\n\u001B[0;32m--> 100\u001B[0m     \u001B[38;5;28;01mreturn\u001B[39;00m \u001B[43mpycallable\u001B[49m\u001B[43m(\u001B[49m\u001B[43mfr\u001B[49m\u001B[43m,\u001B[49m\u001B[43m \u001B[49m\u001B[38;5;241;43m*\u001B[39;49m\u001B[43margs\u001B[49m\u001B[43m,\u001B[49m\u001B[43m \u001B[49m\u001B[38;5;241;43m*\u001B[39;49m\u001B[38;5;241;43m*\u001B[39;49m\u001B[43mkwargs\u001B[49m\u001B[43m)\u001B[49m\n",
      "File \u001B[0;32m~/map_making_jonah/blasttng-to-g3/g3_utils/coords.py:117\u001B[0m, in \u001B[0;36madd_radec_so3g\u001B[0;34m(frame, az, el, lat, lon, alt, ra, dec)\u001B[0m\n\u001B[1;32m    114\u001B[0m ra_ts \u001B[38;5;241m=\u001B[39m core\u001B[38;5;241m.\u001B[39mG3Timestream(np\u001B[38;5;241m.\u001B[39mmod(coords[\u001B[38;5;241m0\u001B[39m][:, \u001B[38;5;241m0\u001B[39m], \u001B[38;5;241m2\u001B[39m \u001B[38;5;241m*\u001B[39m np\u001B[38;5;241m.\u001B[39mpi) \u001B[38;5;241m*\u001B[39m gu\u001B[38;5;241m.\u001B[39mrad)\n\u001B[1;32m    115\u001B[0m dec_ts \u001B[38;5;241m=\u001B[39m core\u001B[38;5;241m.\u001B[39mG3Timestream(coords[\u001B[38;5;241m0\u001B[39m][:, \u001B[38;5;241m1\u001B[39m] \u001B[38;5;241m*\u001B[39m gu\u001B[38;5;241m.\u001B[39mrad)\n\u001B[0;32m--> 117\u001B[0m \u001B[43mra_ts\u001B[49m\u001B[38;5;241;43m.\u001B[39;49m\u001B[43mstart\u001B[49m \u001B[38;5;241m=\u001B[39m times[\u001B[38;5;241m0\u001B[39m]\n\u001B[1;32m    118\u001B[0m ra_ts\u001B[38;5;241m.\u001B[39mstop \u001B[38;5;241m=\u001B[39m times[\u001B[38;5;241m-\u001B[39m\u001B[38;5;241m1\u001B[39m]\n\u001B[1;32m    119\u001B[0m dec_ts\u001B[38;5;241m.\u001B[39mstart \u001B[38;5;241m=\u001B[39m times[\u001B[38;5;241m0\u001B[39m]\n",
      "\u001B[0;31mArgumentError\u001B[0m: Python argument types in\n    None.None(G3Timestream, numpy.float64)\ndid not match C++ signature:\n    None(G3Timestream {lvalue}, G3Time)"
     ]
    }
   ],
   "source": [
    "# Uncomment this pipeline to recompute & overwrite ra_df_added/norm_df_added\n",
    "\n",
    "pipe = core.G3Pipeline()\n",
    "pipe.Add(core.G3Reader, filename=str(roach1_pass3_file))\n",
    "pipe.Add(ut.add_radec_so3g)\n",
    "pipe.Add(ut.AddScanDF, exclude_kids=exclude_kids)\n",
    "pipe.Add(ut.add_cal_lamp_df, iq_key=\"cal_lamp_data\", exclude_kids=exclude_kids)\n",
    "pipe.Add(core.G3Writer, filename=str(ra_df_added))\n",
    "pipe.Add(ut.NormalizeDF, detector_medians=detector_medians)\n",
    "pipe.Add(core.G3Writer, filename=str(norm_df_added))\n",
    "pipe.Add(ut.FrameCounter)\n",
    "pipe.Run()\n",
    "\n",
    "\"\"\"\n",
    "Pipeline profiling results:\n",
    "spt3g.core.G3Reader: 0.071389 user, 0.037763 system, 120 frames (0.000910 s per input frame)\n",
    "_pipelineinfo: 0.000000 user, 0.000000 system, 120 frames (0.000000 s per input frame)\n",
    "g3utils.add_radec_so3g: 0.197547 user, 0.000434 system, 120 frames (0.001650 s per input frame)\n",
    "g3utils.AddScanDF: 25.434544 user, 0.064807 system, 120 frames (0.212495 s per input frame)\n",
    "g3utils.add_cal_lamp_df: 0.281990 user, 0.009692 system, 120 frames (0.002431 s per input frame)\n",
    "g3utils.NormalizeDF: 0.253910 user, 0.000002 system, 120 frames (0.002116 s per input frame)\n",
    "g3utils.FrameCounter: 0.003378 user, 0.000064 system, 120 frames (0.000029 s per input frame)\n",
    "spt3g.core.G3Writer: 3.151443 user, 0.251032 system, 120 frames (0.028354 s per input frame)\n",
    "Total: 29.394201 user, 0.363794 system\n",
    "Peak memory consumption (369.4 MB) in module g3utils.add_cal_lamp_df\n",
    "\"\"\";"
   ]
  },
  {
   "cell_type": "code",
   "execution_count": null,
   "id": "133bd419-1147-4aee-bf74-1832399cd397",
   "metadata": {},
   "outputs": [],
   "source": [
    "def first_frame(file, type=core.G3FrameType.Scan):\n",
    "    grabber = ut.FirstFrameGrabber(frame_type=type)\n",
    "    pipe = core.G3Pipeline()\n",
    "    pipe.Add(core.G3Reader, filename=file)\n",
    "    pipe.Add(grabber)\n",
    "    pipe.Run()\n",
    "    return grabber.first_frame\n",
    "\n",
    "kids: np.ndarray[str] = np.array(first_frame(str(norm_df_added))[\"norm_df\"].names)\n",
    "kids.sort()"
   ]
  },
  {
   "cell_type": "code",
   "execution_count": null,
   "id": "f0456899-5417-4501-805d-4ad2f1b078b2",
   "metadata": {
    "scrolled": true
   },
   "outputs": [],
   "source": [
    "# center of the sky map\n",
    "ra0 = 231.15 * core.G3Units.deg\n",
    "dec0 = -56.2 * core.G3Units.deg\n",
    "\n",
    "# map dimensions\n",
    "xlen = 1.4 * core.G3Units.deg\n",
    "ylen = 0.9 * core.G3Units.deg\n",
    "\n",
    "# pixel resolution\n",
    "res = 1 * core.G3Units.arcmin"
   ]
  },
  {
   "cell_type": "code",
   "execution_count": null,
   "id": "b882c8b9-cf8a-41fd-aadb-fa3cc0949981",
   "metadata": {
    "scrolled": true
   },
   "outputs": [],
   "source": [
    "source_coords = {}\n",
    "# determine source shifts\n",
    "binners = [\n",
    "    ut.SingleMapBinner(\n",
    "        kid,\n",
    "        timestreams=\"df\",\n",
    "        ra0=ra0,\n",
    "        dec0=dec0,\n",
    "        xlen=xlen,\n",
    "        ylen=ylen,\n",
    "        res=res\n",
    "    ) for kid in kids\n",
    "]\n",
    "\n",
    "pipe = core.G3Pipeline()\n",
    "pipe.Add(core.G3Reader, filename=str(norm_df_added))\n",
    "for binner in binners:\n",
    "    pipe.Add(binner)\n",
    "pipe.Add(ut.FrameCounter)\n",
    "pipe.Run()\n",
    "\n",
    "for kid, binner in zip(kids, binners):\n",
    "    source_coords[kid] = binner.source_coords()"
   ]
  },
  {
   "cell_type": "code",
   "execution_count": null,
   "id": "87678b9f-7762-4b06-b40f-040dfe29a549",
   "metadata": {},
   "outputs": [],
   "source": [
    "binner = ut.MapBinner(\n",
    "    timestreams=\"df_ctremoved\",\n",
    "    source_coords=source_coords,\n",
    "    stds=detector_stds,\n",
    "    ra0=ra0, dec0=dec0, xlen=xlen, ylen=ylen, res=res,\n",
    ")\n",
    "\n",
    "# create the pipeline\n",
    "pipe = core.G3Pipeline()\n",
    "pipe.Add(core.G3Reader, filename=str(norm_df_added))\n",
    "pipe.Add(ut.remove_common_mode, in_key=\"norm_df\")\n",
    "pipe.Add(binner)\n",
    "pipe.Add(ut.FrameCounter)\n",
    "pipe.Run()"
   ]
  },
  {
   "cell_type": "code",
   "execution_count": null,
   "id": "d1986ceb-989e-4211-8efd-26007173c8c1",
   "metadata": {},
   "outputs": [],
   "source": [
    "plt.imshow(binner.data, origin='lower')\n",
    "plt.xticks(range(binner.nx + 1)[::80], [f\"{ra:.2f}\" for ra in binner.ra_edges[::80] / core.G3Units.deg],\n",
    "               rotation=45)\n",
    "plt.yticks(range(binner.ny + 1)[::80], [f\"{dec:.2f}\" for dec in binner.dec_edges[::80] / core.G3Units.deg])\n",
    "plt.colorbar()\n",
    "plt.xlabel(\"RA (deg)\")\n",
    "plt.ylabel(\"DEC (deg)\")\n",
    "plt.show()\n",
    "\n",
    "plt.imshow(binner.hits, origin='lower')\n",
    "plt.xticks(range(binner.nx + 1)[::80], [f\"{ra:.2f}\" for ra in binner.ra_edges[::80] / core.G3Units.deg],\n",
    "               rotation=45)\n",
    "plt.yticks(range(binner.ny + 1)[::80], [f\"{dec:.2f}\" for dec in binner.dec_edges[::80] / core.G3Units.deg])\n",
    "plt.colorbar()\n",
    "plt.title(\"# of Hits\")\n",
    "plt.xlabel(\"RA (deg)\")\n",
    "plt.ylabel(\"DEC (deg)\")\n",
    "plt.show()\n"
   ]
  },
  {
   "cell_type": "code",
   "execution_count": null,
   "id": "4e7b67b2-d7c7-4f9f-9318-6052f95bb92a",
   "metadata": {},
   "outputs": [],
   "source": [
    "import matplotlib.colors as colors\n",
    "with np.errstate(invalid='ignore'):\n",
    "    m = binner.data / binner.hits\n",
    "linthresh = 0.02\n",
    "plt.imshow(m, origin='lower', norm=colors.SymLogNorm(linthresh))\n",
    "plt.xticks(range(binner.nx + 1)[::10], [f\"{ra:.2f}\" for ra in binner.ra_edges[::10] / core.G3Units.deg],\n",
    "               rotation=45)\n",
    "plt.yticks(range(binner.ny + 1)[::10], [f\"{dec:.2f}\" for dec in binner.dec_edges[::10] / core.G3Units.deg])\n",
    "plt.colorbar()\n",
    "plt.xlabel(\"RA (deg)\")\n",
    "plt.ylabel(\"DEC (deg)\")\n",
    "plt.title(f\"Roach 1 Pass 3, Combined Map\\nLog scale where |DF| > {linthresh}\")\n",
    "plt.show()"
   ]
  },
  {
   "cell_type": "code",
   "execution_count": null,
   "id": "41eabf62-4cb8-4d72-847c-20e727ffb96f",
   "metadata": {},
   "outputs": [],
   "source": [
    "def simulate_astronomical(frame, prev_map=None, ra0=None, dec0=None, xlen=None, ylen=None, res=None):\n",
    "    if frame.type != core.G3FrameType.Scan:\n",
    "        return\n",
    "    \n",
    "    X = np.array(frame[\"ra\"])\n",
    "    Y = np.array(frame[\"dec\"])\n",
    "\n",
    "    nx = int(xlen / res)\n",
    "    ny = int(ylen / res)\n",
    "    ra_edges = np.linspace(-xlen / 2, xlen / 2, nx + 1) + ra0\n",
    "    dec_edges = np.linspace(-ylen / 2, ylen / 2, ny + 1) + dec0\n",
    "    \n",
    "    # Step 1: Digitize X and Y to find bin indices\n",
    "    x_bin_indices = np.digitize(X, ra_edges) - 1  # Subtract 1 because np.digitize gives 1-based index\n",
    "    y_bin_indices = np.digitize(Y, dec_edges) - 1  # Subtract 1 for same reason\n",
    "\n",
    "    # Step 2: Initialize an array to store the reconstructed weights\n",
    "    reconstructed_W = np.zeros_like(X)\n",
    "\n",
    "    # Step 3: Loop over each weight, and assign it to the corresponding bin\n",
    "    for i in range(len(X)):\n",
    "        # Get the corresponding bin in the 2D histogram M\n",
    "        x_bin = x_bin_indices[i]\n",
    "        y_bin = y_bin_indices[i]\n",
    "\n",
    "        # Reconstruct the weight by dividing the sum in the bin by the number of points in the bin\n",
    "        # (to reverse the histogram summing)\n",
    "        reconstructed_W[i] = prev_map[y_bin, x_bin] / np.sum((x_bin_indices == x_bin) & (y_bin_indices == y_bin))\n",
    "\n",
    "    sim_ast = core.G3Timestream(reconstructed_W)\n",
    "    sim_ast.start = frame[\"ra\"].start\n",
    "    sim_ast.stop = frame[\"ra\"].stop\n",
    "    frame[\"sim_ast\"] = sim_ast\n",
    "\n",
    "\n",
    "pipe = core.G3Pipeline()\n",
    "pipe.Add(core.G3Reader, filename=str(norm_df_added))\n",
    "pipe.Add(simulate_astronomical, prev_map=m, ra0=ra0, dec0=dec0, xlen=xlen, ylen=ylen, res=res)\n",
    "pipe.Add(ut.FrameCounter)\n",
    "pipe.Run()"
   ]
  }
 ],
 "metadata": {
  "kernelspec": {
   "display_name": "Python 3 (ipykernel)",
   "language": "python",
   "name": "python3"
  },
  "language_info": {
   "codemirror_mode": {
    "name": "ipython",
    "version": 3
   },
   "file_extension": ".py",
   "mimetype": "text/x-python",
   "name": "python",
   "nbconvert_exporter": "python",
   "pygments_lexer": "ipython3",
   "version": "3.10.12"
  }
 },
 "nbformat": 4,
 "nbformat_minor": 5
}

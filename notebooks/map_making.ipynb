{
 "cells": [
  {
   "metadata": {},
   "cell_type": "code",
   "outputs": [],
   "execution_count": null,
   "source": [
    "import numpy as np\n",
    "import g3utils as ut\n",
    "import matplotlib.pyplot as plt\n",
    "import so3g.proj\n",
    "from spt3g import core\n",
    "import pathlib"
   ],
   "id": "a17551744fd65b3c"
  },
  {
   "metadata": {},
   "cell_type": "code",
   "outputs": [],
   "execution_count": null,
   "source": [
    "control_computer_g3_dir = pathlib.Path(\"/media/player1/blast2020fc1/blasttng_g3\")\n",
    "roach1_pass3_file = control_computer_g3_dir / \"testing/roach1_pass3.g3\"\n",
    "\n",
    "ra_df_added = control_computer_g3_dir / \"mapmaking/ra_df_added.g3\"\n",
    "norm_df_added = control_computer_g3_dir / \"mapmaking/norm_df_added.g3\""
   ],
   "id": "3018843f4e1f625e"
  },
  {
   "metadata": {},
   "cell_type": "code",
   "outputs": [],
   "execution_count": null,
   "source": [
    "stats = ut.DetectorStats(data_key=\"df\")\n",
    "\n",
    "pipe = core.G3Pipeline()\n",
    "pipe.Add(core.G3Reader, filename=str(ra_df_added))\n",
    "pipe.Add(stats)\n",
    "pipe.Run()\n",
    "\n",
    "detector_medians = np.median(np.array(stats.medians), axis=0)\n",
    "detector_medians.shape\n",
    "plt.hist(detector_medians, bins=50)\n",
    "plt.xticks(rotation=40)\n",
    "plt.xlabel(\"Detector Median\")\n",
    "plt.ylabel(\"Number of Detectors\")\n",
    "plt.show()\n",
    "\n",
    "detector_stds = np.median(np.array(stats.stds), axis=0)\n",
    "detector_stds.shape\n",
    "plt.hist(detector_stds, bins=50)\n",
    "plt.xticks(rotation=40)\n",
    "plt.xlabel(\"Detector Standard Deviation\")\n",
    "plt.ylabel(\"Number of Detectors\")\n",
    "plt.gca().set_yscale(\"log\")\n",
    "plt.show()"
   ],
   "id": "d7d6c9c0b245d88"
  },
  {
   "metadata": {},
   "cell_type": "code",
   "outputs": [],
   "execution_count": null,
   "source": [
    "pipe = core.G3Pipeline()\n",
    "pipe.Add(core.G3Reader, filename=str(roach1_pass3_file))\n",
    "pipe.Add(ut.AddAllDF)\n",
    "pipe.Add(ut.add_cal_lamp_df, iq_key=\"cal_lamp_data\")\n",
    "pipe.Add(ut.NormalizeDF, detector_medians=detector_medians)\n",
    "pipe.Add(ut.FrameCounter)\n",
    "pipe.Add(core.G3Writer, filename=str(norm_df_added))\n",
    "pipe.Run()"
   ],
   "id": "84d62186bfcfbc37"
  },
  {
   "metadata": {},
   "cell_type": "code",
   "outputs": [],
   "execution_count": null,
   "source": [
    "def first_frame(file, type=core.G3FrameType.Scan):\n",
    "    grabber = ut.FirstFrameGrabber(frame_type=type)\n",
    "    pipe = core.G3Pipeline()\n",
    "    pipe.Add(core.G3Reader, filename=file)\n",
    "    pipe.Add(grabber)\n",
    "    pipe.Run()\n",
    "    return grabber.first_frame\n",
    "\n",
    "kids = np.array(ut.first_scan_frame(str(norm_df_added))[\"norm_df\"].names)"
   ],
   "id": "14e11f53053cc0b1"
  },
  {
   "metadata": {},
   "cell_type": "code",
   "outputs": [],
   "execution_count": null,
   "source": [
    "# center of the sky map\n",
    "ra0 = 231.15 * core.G3Units.deg\n",
    "dec0 = -56.2 * core.G3Units.deg\n",
    "\n",
    "# map dimensions\n",
    "xlen = 1.4 * core.G3Units.deg\n",
    "ylen = 0.9 * core.G3Units.deg\n",
    "\n",
    "# pixel resolution\n",
    "res = 1 * core.G3Units.arcmin\n",
    "\n",
    "source_coords = {}\n",
    "# determine source shifts\n",
    "single_kid_binners = []\n",
    "for kid in kids:\n",
    "    binner = ut.SingleMapBinner(\n",
    "        kid,\n",
    "        timestreams=\"df\",\n",
    "        ra0=ra0,\n",
    "        dec0=dec0,\n",
    "        xlen=xlen,\n",
    "        ylen=ylen,\n",
    "        res=res\n",
    "    )\n",
    "    pipe = core.G3Pipeline()\n",
    "    pipe.Add(core.G3Reader, filename=str(norm_df_added))\n",
    "    pipe.Add(binner)\n",
    "    pipe.Run()\n",
    "    source_coords[kid] = binner.source_coords()\n",
    "    single_kid_binners.append(binner)\n",
    "    print(f\"source_coords for {kid}: {source_coords[kid]}\")\n",
    "\n",
    "# for binner in single_kid_binners:\n",
    "#     binner.plot()"
   ],
   "id": "a2f3eeb61c778659"
  },
  {
   "metadata": {},
   "cell_type": "code",
   "outputs": [],
   "execution_count": null,
   "source": [
    "xs=[]\n",
    "ys=[]\n",
    "for key in source_coords.keys():\n",
    "    xs.append(source_coords[key][0])\n",
    "    ys.append(source_coords[key][1])\n",
    "plt.scatter(xs, ys)\n",
    "\n",
    "center_kids = [key for key in source_coords.keys() if (30 <= source_coords[key][0] <= 65) and (15 <= source_coords[key][1] <= 30)]\n",
    "\n",
    "xs=[]\n",
    "ys=[]\n",
    "for key in center_kids:\n",
    "    xs.append(source_coords[key][0])\n",
    "    ys.append(source_coords[key][1])\n",
    "plt.scatter(xs, ys)\n",
    "plt.show()"
   ],
   "id": "69667d258fd24b8e"
  },
  {
   "metadata": {},
   "cell_type": "code",
   "outputs": [],
   "execution_count": null,
   "source": [
    "rcw_92_min_lat = -77.110\n",
    "rcw_92_max_lat = -77.070\n",
    "rcw_92_min_lon = 162.20\n",
    "rcw_92_max_lon = 162.55\n",
    "rcw_92_min_alt = 36030\n",
    "rcw_92_max_alt = 36120\n",
    "rcw_92_avg_lat = rcw_92_min_lat / 2. + rcw_92_max_lat / 2.\n",
    "rcw_92_avg_lon = rcw_92_min_lon / 2. + rcw_92_max_lon / 2.\n",
    "rcw_92_avg_alt = rcw_92_min_alt / 2. + rcw_92_max_alt / 2.\n",
    "BLASTTNG_SITE = so3g.proj.EarthlySite(rcw_92_avg_lon, rcw_92_avg_lat, rcw_92_avg_alt)  # we could also add weather"
   ],
   "id": "6abdc82f1a4a9fa7"
  },
  {
   "metadata": {},
   "cell_type": "code",
   "outputs": [],
   "execution_count": null,
   "source": [
    "binner = ut.MapBinner(\n",
    "    timestreams=\"df\",\n",
    "    source_coords=source_coords,\n",
    "    ra0=ra0, dec0=dec0, xlen=xlen, ylen=ylen, res=res,\n",
    "    select_kids=center_kids\n",
    ")\n",
    "\n",
    "# create the pipeline\n",
    "pipe = core.G3Pipeline()\n",
    "pipe.Add(core.G3Reader, filename=str(norm_df_added))\n",
    "pipe.Add(binner)\n",
    "pipe.Add(ut.FrameCounter)\n",
    "pipe.Run()\n",
    "\n",
    "binner.plot()"
   ],
   "id": "cf714c825f11ed4a"
  },
  {
   "metadata": {},
   "cell_type": "code",
   "outputs": [],
   "execution_count": null,
   "source": [
    "grabber = ut.FirstFrameGrabber(frame_type=core.G3FrameType.Calibration)\n",
    "\n",
    "pipe = core.G3Pipeline()\n",
    "pipe.Add(core.G3Reader, filename=str(roach1_pass3_file))\n",
    "pipe.Add(ut.add_cal_lamp_df, roach_id=1, iq_key=\"cal_lamp_data\")\n",
    "pipe.Add(grabber)\n",
    "pipe.Run()\n",
    "\n",
    "cal_frame = grabber.first_frame\n",
    "\n",
    "print(cal_frame)"
   ],
   "id": "e14573416c2f0843"
  }
 ],
 "metadata": {
  "kernelspec": {
   "display_name": "Python 3 (ipykernel)",
   "language": "python",
   "name": "python3"
  },
  "language_info": {
   "codemirror_mode": {
    "name": "ipython",
    "version": 3
   },
   "file_extension": ".py",
   "mimetype": "text/x-python",
   "name": "python",
   "nbconvert_exporter": "python",
   "pygments_lexer": "ipython3",
   "version": "3.10.12"
  }
 },
 "nbformat": 4,
 "nbformat_minor": 5
}

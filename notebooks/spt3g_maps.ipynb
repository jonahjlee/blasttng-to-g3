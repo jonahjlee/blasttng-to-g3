{
 "cells": [
  {
   "cell_type": "code",
   "execution_count": 1,
   "id": "d2e0a500-549d-4913-9317-b362d10167ea",
   "metadata": {},
   "outputs": [],
   "source": [
    "import so3g \n",
    "from spt3g import maps\n",
    "from spt3g import core\n",
    "from spt3g.core import G3Units as gu\n",
    "from astropy.coordinates import EarthLocation\n",
    "import numpy as np\n",
    "import matplotlib.pyplot as plt\n",
    "import pathlib\n",
    "import g3_utils as ut"
   ]
  },
  {
   "cell_type": "code",
   "execution_count": 2,
   "id": "20f7d750-80d4-417b-be7f-f1029aab0a1e",
   "metadata": {},
   "outputs": [],
   "source": [
    "control_computer_g3_dir = pathlib.Path(\"/media/player1/blast2020fc1/blasttng_g3\")\n",
    "roach1_pass3_file = control_computer_g3_dir / \"testing/roach1_pass3.g3\"\n",
    "\n",
    "ra_df_added = control_computer_g3_dir / \"mapmaking/ra_df_added.g3\"\n",
    "norm_df_added = control_computer_g3_dir / \"mapmaking/norm_df_added.g3\""
   ]
  },
  {
   "cell_type": "code",
   "execution_count": 20,
   "id": "87a15e4a-1b47-46ba-b170-3d438cae352b",
   "metadata": {},
   "outputs": [],
   "source": [
    "def ang_to_quat_fixed(alpha, delta, start=None, stop=None):\n",
    "    \"\"\"\n",
    "    Copied & fixed since maps.ang_to_quat has a missing return statement\n",
    "    \n",
    "    Convert a set of angles (or vector of them) specified as a (longitude,\n",
    "    latitude) pair to a pointing quaternion (or vector of them). If start\n",
    "    and stop are defined, the return value for vectors will be a\n",
    "    G3TimestreamQuat with start and stop times set to the provided values.\n",
    "    \"\"\"\n",
    "\n",
    "    alpha = np.asarray(alpha) / gu.rad\n",
    "    delta = np.asarray(delta) / gu.rad\n",
    "    # Copied from C code\n",
    "    c_delta = np.cos(delta)\n",
    "    q = np.column_stack(\n",
    "        (\n",
    "            0 * c_delta,  # 0s with the right shape\n",
    "            c_delta * np.cos(alpha),\n",
    "            c_delta * np.sin(alpha),\n",
    "            np.sin(delta),\n",
    "        )\n",
    "    )\n",
    "\n",
    "    if len(q) == 1:\n",
    "        return core.quat(q[0, :])\n",
    "    else:\n",
    "        if start is not None:\n",
    "            out = core.G3TimestreamQuat(q)\n",
    "            out.start = start\n",
    "            out.stop = stop\n",
    "            return out\n",
    "        else:\n",
    "            return core.G3VectorQuat(q)"
   ]
  },
  {
   "cell_type": "code",
   "execution_count": 25,
   "id": "d598805c-5f98-4e53-a96f-e49bb5450931",
   "metadata": {},
   "outputs": [],
   "source": [
    "def radec_to_quats(frame, ra=\"ra\", dec=\"dec\", out_key=\"pointing\"):\n",
    "    if frame.type != core.G3FrameType.Scan:\n",
    "        return\n",
    "    quat_ts = ang_to_quat_fixed(\n",
    "        frame[ra], frame[dec], start=frame[ra].start, stop=frame[ra].stop\n",
    "    )\n",
    "    ra1, dec1 = maps.quat_to_ang(quat_ts[0])\n",
    "    print(ra1/gu.deg + 360, dec1/gu.deg)\n",
    "    breakpoint()\n",
    "    frame[out_key] = quat_ts"
   ]
  },
  {
   "cell_type": "code",
   "execution_count": 22,
   "id": "74fdda66-450b-4c14-825f-f037b42b1267",
   "metadata": {},
   "outputs": [],
   "source": [
    "def superts_to_tsmap(frame, in_key=\"\", out_key=\"\", frame_type=None):\n",
    "    frame_type = frame_type if frame_type is not None else core.G3FrameType.Scan\n",
    "    if frame.type != frame_type:\n",
    "        return\n",
    "    super_ts = frame[in_key]\n",
    "    frame[out_key] = core.G3TimestreamMap(super_ts.names, super_ts.data, super_ts.times[0], super_ts.times[-1])"
   ]
  },
  {
   "cell_type": "code",
   "execution_count": 30,
   "id": "0a3c95af-60a1-422f-a997-22098b1e9335",
   "metadata": {
    "scrolled": true
   },
   "outputs": [
    {
     "name": "stdout",
     "output_type": "stream",
     "text": [
      "100 x 100 (1.667 x 1.667 deg) ZEA centered at (49.5, 49.5) = (231.2, -56.2 deg) in equatorial coordinates (Tcmb, weighted)\n"
     ]
    }
   ],
   "source": [
    "# center of the sky map\n",
    "ra0 = 231.15 * core.G3Units.deg\n",
    "dec0 = -56.2 * core.G3Units.deg\n",
    "\n",
    "# ra_test = -201.5 * core.G3Units.deg\n",
    "# dec_test = 35.5 * core.G3Units.deg\n",
    "\n",
    "xlen = 100\n",
    "ylen = 100\n",
    "\n",
    "# pixel resolution\n",
    "res = 1 * core.G3Units.arcmin\n",
    "\n",
    "smstub = maps.FlatSkyMap(\n",
    "    xlen, ylen, res,\n",
    "    proj=maps.MapProjection.ProjLambertAzimuthalEqualArea,\n",
    "    alpha_center=ra0, delta_center=dec0,\n",
    "    # x_center=0, y_center=0\n",
    ")\n",
    "print(smstub)"
   ]
  },
  {
   "cell_type": "code",
   "execution_count": 77,
   "id": "9c6ba238-31e5-4f1a-88aa-0c3e31789467",
   "metadata": {},
   "outputs": [
    {
     "name": "stdout",
     "output_type": "stream",
     "text": [
      "6757\n",
      "57\n",
      "67\n"
     ]
    },
    {
     "data": {
      "text/plain": [
       "spt3g.core.DoubleVector([57, 67])"
      ]
     },
     "execution_count": 77,
     "metadata": {},
     "output_type": "execute_result"
    }
   ],
   "source": [
    "px = smstub.quat_to_pixel(core.quat(0,-0.35326,-0.435265,-0.828101))\n",
    "print(px)\n",
    "print(px % 100)\n",
    "print(px // 100)\n",
    "smstub.pixel_to_xy(px)\n",
    "# smstub.__dir__()"
   ]
  },
  {
   "cell_type": "code",
   "execution_count": 78,
   "id": "7b506471-de87-482e-b69c-ef7b6912d23f",
   "metadata": {
    "scrolled": true
   },
   "outputs": [
    {
     "name": "stdout",
     "output_type": "stream",
     "text": [
      "\n",
      "Calibration\n",
      "230.93729730808505 -55.90417946585062\n",
      "\n",
      "231.44616695726086 -56.01788031999741\n",
      "231.90906512431286 -56.12932297282186\n",
      "231.67583189016509 -56.084526326883804\n",
      "231.0800665502176 -55.96310119333846\n",
      "231.10170859138867 -55.970605165448156\n",
      "231.61507570910902 -56.099135144480556\n",
      "231.9392332052833 -56.178153752982254\n",
      "231.38874100444042 -56.06125556153791\n",
      "230.88322749306315 -55.95518371345343\n",
      "231.2991031762462 -56.05599407607904\n",
      "231.76752588855922 -56.18113732884323\n",
      "231.74767002211107 -56.192833664530596\n",
      "231.1398719659203 -56.060741650731124\n",
      "230.93111720978393 -56.00959836124991\n",
      "231.46665948023193 -56.13003507413214\n",
      "231.90386543280417 -56.22863442419353\n",
      "231.4885407210975 -56.13968802069319\n",
      "230.92563977427204 -56.01380420328387\n",
      "231.14305424508754 -56.07475179114895\n",
      "231.6443859460449 -56.195858171247835\n",
      "231.82425926819707 -56.245930119796505\n",
      "231.22331304689806 -56.114212574884874\n",
      "230.84553021501804 -56.02333387714378\n",
      "231.35476426668652 -56.144277313762174\n",
      "231.82500703054507 -56.25082047958872\n",
      "231.57636277190198 -56.20409021836567\n",
      "230.97968954938537 -56.08289248849995\n",
      "231.0131668947261 -56.09508029748872\n",
      "231.5333199146776 -56.22120156921482\n",
      "231.85091406329818 -56.30376098014329\n",
      "231.29656576559094 -56.176126912069456\n",
      "230.80498251548056 -56.06159627051869\n",
      "231.23609834505103 -56.15859792613375\n",
      "231.71490620877307 -56.26837551692567\n",
      "231.66421025882954 -56.27124882953181\n",
      "231.05524636852363 -56.139793593297114\n",
      "230.89653013551103 -56.10432919029571\n",
      "231.42657516807978 -56.23877676533817\n",
      "231.837530316108 -56.33127951409215\n",
      "231.37628782765273 -56.23039260202553\n",
      "230.82566324347337 -56.104611046781365\n",
      "231.12554736643568 -56.169835711786995\n",
      "231.61445751339033 -56.293745208646804\n",
      "231.7272821390889 -56.33910172723257\n",
      "231.1213180988748 -56.20141474546965\n",
      "230.78434585238767 -56.132957191436304\n",
      "231.3130766906612 -56.248492736354855\n",
      "231.7743611514113 -56.35151148781847\n",
      "231.49745197088 -56.2890611157378\n",
      "230.91466981575059 -56.15427367592197\n",
      "230.96443256221264 -56.16691558268246\n",
      "231.48284485000485 -56.29880694081771\n",
      "231.803373071685 -56.38010010975605\n",
      "231.24675348660756 -56.26452787810493\n",
      "230.74281837917434 -56.1527181386448\n",
      "231.1529673751844 -56.241037096596955\n",
      "231.63913742607002 -56.350767473039824\n",
      "231.6316939983511 -56.35693085332349\n",
      "231.01816598200236 -56.221065716051214\n",
      "230.81472154195365 -56.185211127309685\n",
      "231.35021493769335 -56.317368228187256\n",
      "231.77474811364925 -56.418896982342666\n",
      "231.3380597410089 -56.33737103518455\n",
      "230.77361503035308 -56.2066204951898\n",
      "231.01683569439913 -56.25800818230879\n",
      "231.5267180366978 -56.37402358819024\n",
      "231.70729793156264 -56.415465309328056\n",
      "231.0915026299947 -56.29219412552827\n",
      "230.7072254242619 -56.211187428969446\n",
      "231.21576325027158 -56.33200555060857\n",
      "231.68608822778512 -56.44824611086765\n",
      "231.4530639655883 -56.39386061395793\n",
      "230.86146921176987 -56.254676709810745\n",
      "230.86672021276104 -56.26019734085273\n",
      "231.39644336067022 -56.387473433497824\n",
      "231.7307754135142 -56.476265903016554\n",
      "231.18684629367436 -56.36637717627029\n",
      "230.66766294133524 -56.25546534871028\n",
      "231.06746395689404 -56.34923234538169\n",
      "231.55340478467315 -56.46214511273705\n",
      "231.57978589259866 -56.46466403358095\n",
      "230.96759996292306 -56.326609338558114\n",
      "230.72894747748538 -56.2687091065284\n",
      "231.26320044678684 -56.394994055585926\n",
      "231.69800924336093 -56.50833752667188\n",
      "231.30845875702906 -56.43113571481121\n",
      "230.73522478539616 -56.301705623621125\n",
      "230.9023972452433 -56.34892035122003\n",
      "231.41478331471018 -56.46282992352498\n",
      "231.6694797302763 -56.52495434854382\n",
      "231.08134309178425 -56.398813858499416\n",
      "230.6255695215221 -56.295324556756555\n",
      "231.08228800802596 -56.41512347322504\n",
      "231.55374779569516 -56.538476955885585\n",
      "231.452787832217 -56.52534707776408\n",
      "230.8443660292911 -56.39125839863592\n",
      "230.7121016708633 -56.356123533738476\n",
      "231.25001285909178 -56.48044076873912\n",
      "231.66234614691064 -56.5788155427833\n",
      "231.20413823468652 -56.48785480963803\n",
      "230.63633568445402 -56.365764768387336\n",
      "230.9040088605972 -56.436564332841165\n",
      "231.40006959767416 -56.56085905699745\n",
      "231.56729449059313 -56.60334817844394\n",
      "230.96079157300503 -56.466665555422\n",
      "230.58409613611147 -56.37158822819948\n",
      "231.0997340876213 -56.48980855747165\n",
      "231.56791061548856 -56.604066113759686\n",
      "231.34931591114565 -56.56272205945863\n",
      "230.74658572504845 -56.434653315131236\n",
      "230.71666968971388 -56.42888835649557\n",
      "231.2526555538663 -56.55771631979447\n",
      "231.6188811401334 -56.64159193177536\n",
      "231.10173967139642 -56.5269205696794\n",
      "230.571085965544 -56.39659243025359\n",
      "230.93316160680405 -56.479447205151\n",
      "Scan (x117)\n",
      "Map (x342)\n",
      "EndProcessing\n",
      "First map frame:  Frame (Map) [\n",
      "\"Id\" (spt3g.core.G3String) => \"roach1_0001\"\n",
      "\"T\" (spt3g.maps.FlatSkyMap) => 100 x 100 (1.667 x 1.667 deg) ZEA centered at (49.5, 49.5) = (231.2, -56.2 deg) in equatorial coordinates (, weighted)\n",
      "]\n",
      "FlatSkyMap:  100 x 100 (1.667 x 1.667 deg) ZEA centered at (49.5, 49.5) = (231.2, -56.2 deg) in equatorial coordinates (, weighted)\n"
     ]
    }
   ],
   "source": [
    "map_frame_grabber = ut.NthFrameGrabber(2, core.G3FrameType.Map)\n",
    "\n",
    "pipe = core.G3Pipeline()\n",
    "pipe.Add(core.G3Reader, filename=str(norm_df_added))\n",
    "pipe.Add(radec_to_quats)\n",
    "pipe.Add(superts_to_tsmap, in_key=\"norm_df\", out_key=\"norm_df_map\")\n",
    "pipe.Add(\n",
    "    maps.SingleDetectorBoresightBinner,\n",
    "    stub_map=smstub,\n",
    "    timestreams='norm_df_map',\n",
    "    pointing='pointing',\n",
    ")\n",
    "pipe.Add(map_frame_grabber)\n",
    "pipe.Add(ut.FrameCounter)\n",
    "pipe.Run()\n",
    "\n",
    "first_map_frame = map_frame_grabber.nth_frame\n",
    "print(\"First map frame: \", first_map_frame)\n",
    "print(\"FlatSkyMap: \", first_map_frame[\"T\"])"
   ]
  },
  {
   "cell_type": "code",
   "execution_count": 79,
   "id": "0629a4b3-8cba-46de-b48a-0413f83c5439",
   "metadata": {},
   "outputs": [
    {
     "data": {
      "image/png": "[encoded data removed]",
      "text/plain": [
       "<Figure size 640x480 with 1 Axes>"
      ]
     },
     "metadata": {},
     "output_type": "display_data"
    }
   ],
   "source": [
    "im = np.asarray(first_map_frame[\"T\"])\n",
    "plt.imshow(im, origin='lower')\n",
    "plt.show()"
   ]
  },
  {
   "cell_type": "code",
   "execution_count": 82,
   "id": "b46e288f-c184-4496-b49e-69714d7d653c",
   "metadata": {},
   "outputs": [
    {
     "name": "stdout",
     "output_type": "stream",
     "text": [
      "0 0\n"
     ]
    }
   ],
   "source": [
    "max_indices = np.unravel_index(np.argmax(im), im.shape)\n",
    "print(max_indices[1], max_indices[0])"
   ]
  },
  {
   "cell_type": "code",
   "execution_count": 81,
   "id": "2a479f7e-0bff-4612-85ec-e3ad94723843",
   "metadata": {},
   "outputs": [
    {
     "ename": "IndexError",
     "evalue": "Index out of range",
     "output_type": "error",
     "traceback": [
      "\u001b[0;31m---------------------------------------------------------------------------\u001b[0m",
      "\u001b[0;31mIndexError\u001b[0m                                Traceback (most recent call last)",
      "Cell \u001b[0;32mIn[81], line 1\u001b[0m\n\u001b[0;32m----> 1\u001b[0m \u001b[43mfirst_map_frame\u001b[49m\u001b[43m[\u001b[49m\u001b[38;5;124;43m\"\u001b[39;49m\u001b[38;5;124;43mT\u001b[39;49m\u001b[38;5;124;43m\"\u001b[39;49m\u001b[43m]\u001b[49m\u001b[43m[\u001b[49m\u001b[38;5;241;43m97813\u001b[39;49m\u001b[43m]\u001b[49m\n",
      "\u001b[0;31mIndexError\u001b[0m: Index out of range"
     ]
    }
   ],
   "source": [
    "first_map_frame[\"T\"][97813]"
   ]
  },
  {
   "cell_type": "code",
   "execution_count": 99,
   "id": "e968f463-69f6-42e0-ad27-919b137c65fd",
   "metadata": {},
   "outputs": [
    {
     "name": "stdout",
     "output_type": "stream",
     "text": [
      "4.034328565984893 -2.2488567411946936\n",
      "-0.9808750396208132 -0.9808750396208133\n"
     ]
    }
   ],
   "source": [
    "q = maps.ang_to_quat(ra0, dec0)\n",
    "ra1, dec1 = maps.quat_to_ang(q)\n",
    "print(ra0, ra1)\n",
    "print(dec0, dec1)"
   ]
  },
  {
   "cell_type": "code",
   "execution_count": 95,
   "id": "179e058d-9275-4cd8-80b8-616c8bec40eb",
   "metadata": {},
   "outputs": [
    {
     "data": {
      "text/plain": [
       "-128.84998332757993"
      ]
     },
     "execution_count": 95,
     "metadata": {},
     "output_type": "execute_result"
    }
   ],
   "source": [
    "-2.2488564502060693/gu.deg, "
   ]
  },
  {
   "cell_type": "code",
   "execution_count": null,
   "id": "b41c2acc-62d1-49d7-9de0-f14f0c4405a3",
   "metadata": {},
   "outputs": [],
   "source": []
  }
 ],
 "metadata": {
  "kernelspec": {
   "display_name": "Python 3 (ipykernel)",
   "language": "python",
   "name": "python3"
  },
  "language_info": {
   "codemirror_mode": {
    "name": "ipython",
    "version": 3
   },
   "file_extension": ".py",
   "mimetype": "text/x-python",
   "name": "python",
   "nbconvert_exporter": "python",
   "pygments_lexer": "ipython3",
   "version": "3.10.12"
  }
 },
 "nbformat": 4,
 "nbformat_minor": 5
}
